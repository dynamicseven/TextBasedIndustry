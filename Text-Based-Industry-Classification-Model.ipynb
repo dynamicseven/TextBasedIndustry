{
 "cells": [
  {
   "cell_type": "markdown",
   "metadata": {},
   "source": [
    "# Text-Based Industry"
   ]
  },
  {
   "cell_type": "markdown",
   "metadata": {},
   "source": [
    "## Setting up environment"
   ]
  },
  {
   "cell_type": "code",
   "execution_count": 3,
   "metadata": {},
   "outputs": [],
   "source": [
    "import pandas as pd\n",
    "import numpy as np\n",
    "import os\n",
    "import pickle\n",
    "os.chdir(\"/Users/hanyi.wang/Documents/Projects/Text-based Correlation Model/Data\")"
   ]
  },
  {
   "cell_type": "markdown",
   "metadata": {},
   "source": [
    "First we examine the data with the index file:"
   ]
  },
  {
   "cell_type": "code",
   "execution_count": 18,
   "metadata": {},
   "outputs": [
    {
     "data": {
      "text/html": [
       "<div>\n",
       "<style scoped>\n",
       "    .dataframe tbody tr th:only-of-type {\n",
       "        vertical-align: middle;\n",
       "    }\n",
       "\n",
       "    .dataframe tbody tr th {\n",
       "        vertical-align: top;\n",
       "    }\n",
       "\n",
       "    .dataframe thead th {\n",
       "        text-align: right;\n",
       "    }\n",
       "</style>\n",
       "<table border=\"1\" class=\"dataframe\">\n",
       "  <thead>\n",
       "    <tr style=\"text-align: right;\">\n",
       "      <th></th>\n",
       "      <th>CIK</th>\n",
       "      <th>Comname</th>\n",
       "      <th>File_Type</th>\n",
       "      <th>File_Date</th>\n",
       "      <th>txt_path</th>\n",
       "      <th>html_path</th>\n",
       "      <th>txt_name</th>\n",
       "    </tr>\n",
       "  </thead>\n",
       "  <tbody>\n",
       "    <tr>\n",
       "      <th>631</th>\n",
       "      <td>1000298</td>\n",
       "      <td>IMPAC MORTGAGE HOLDINGS INC</td>\n",
       "      <td>10-K</td>\n",
       "      <td>2017-03-09</td>\n",
       "      <td>edgar/data/1000298/0001558370-17-001542.txt</td>\n",
       "      <td>edgar/data/1000298/0001558370-17-001542-index....</td>\n",
       "      <td>10002980001558370-17-001542.txt</td>\n",
       "    </tr>\n",
       "    <tr>\n",
       "      <th>652</th>\n",
       "      <td>1000623</td>\n",
       "      <td>SCHWEITZER MAUDUIT INTERNATIONAL INC</td>\n",
       "      <td>10-K</td>\n",
       "      <td>2017-02-24</td>\n",
       "      <td>edgar/data/1000623/0001000623-17-000036.txt</td>\n",
       "      <td>edgar/data/1000623/0001000623-17-000036-index....</td>\n",
       "      <td>10006230001000623-17-000036.txt</td>\n",
       "    </tr>\n",
       "    <tr>\n",
       "      <th>681</th>\n",
       "      <td>1000683</td>\n",
       "      <td>BLONDER TONGUE LABORATORIES INC</td>\n",
       "      <td>10-K</td>\n",
       "      <td>2017-03-31</td>\n",
       "      <td>edgar/data/1000683/0001144204-17-017902.txt</td>\n",
       "      <td>edgar/data/1000683/0001144204-17-017902-index....</td>\n",
       "      <td>10006830001144204-17-017902.txt</td>\n",
       "    </tr>\n",
       "    <tr>\n",
       "      <th>686</th>\n",
       "      <td>1000694</td>\n",
       "      <td>NOVAVAX INC</td>\n",
       "      <td>10-K</td>\n",
       "      <td>2017-02-27</td>\n",
       "      <td>edgar/data/1000694/0001144204-17-011334.txt</td>\n",
       "      <td>edgar/data/1000694/0001144204-17-011334-index....</td>\n",
       "      <td>10006940001144204-17-011334.txt</td>\n",
       "    </tr>\n",
       "    <tr>\n",
       "      <th>708</th>\n",
       "      <td>1000697</td>\n",
       "      <td>WATERS CORP /DE/</td>\n",
       "      <td>10-K</td>\n",
       "      <td>2017-02-24</td>\n",
       "      <td>edgar/data/1000697/0001193125-17-056239.txt</td>\n",
       "      <td>edgar/data/1000697/0001193125-17-056239-index....</td>\n",
       "      <td>10006970001193125-17-056239.txt</td>\n",
       "    </tr>\n",
       "  </tbody>\n",
       "</table>\n",
       "</div>"
      ],
      "text/plain": [
       "         CIK                               Comname File_Type   File_Date  \\\n",
       "631  1000298           IMPAC MORTGAGE HOLDINGS INC      10-K  2017-03-09   \n",
       "652  1000623  SCHWEITZER MAUDUIT INTERNATIONAL INC      10-K  2017-02-24   \n",
       "681  1000683       BLONDER TONGUE LABORATORIES INC      10-K  2017-03-31   \n",
       "686  1000694                           NOVAVAX INC      10-K  2017-02-27   \n",
       "708  1000697                      WATERS CORP /DE/      10-K  2017-02-24   \n",
       "\n",
       "                                        txt_path  \\\n",
       "631  edgar/data/1000298/0001558370-17-001542.txt   \n",
       "652  edgar/data/1000623/0001000623-17-000036.txt   \n",
       "681  edgar/data/1000683/0001144204-17-017902.txt   \n",
       "686  edgar/data/1000694/0001144204-17-011334.txt   \n",
       "708  edgar/data/1000697/0001193125-17-056239.txt   \n",
       "\n",
       "                                             html_path  \\\n",
       "631  edgar/data/1000298/0001558370-17-001542-index....   \n",
       "652  edgar/data/1000623/0001000623-17-000036-index....   \n",
       "681  edgar/data/1000683/0001144204-17-017902-index....   \n",
       "686  edgar/data/1000694/0001144204-17-011334-index....   \n",
       "708  edgar/data/1000697/0001193125-17-056239-index....   \n",
       "\n",
       "                            txt_name  \n",
       "631  10002980001558370-17-001542.txt  \n",
       "652  10006230001000623-17-000036.txt  \n",
       "681  10006830001144204-17-017902.txt  \n",
       "686  10006940001144204-17-011334.txt  \n",
       "708  10006970001193125-17-056239.txt  "
      ]
     },
     "execution_count": 18,
     "metadata": {},
     "output_type": "execute_result"
    }
   ],
   "source": [
    "with open('index_file.dat', 'rb') as index:\n",
    "    # The protocol version used is detected automatically, so we do not\n",
    "    # have to specify it.\n",
    "    data_index = pickle.load(index)\n",
    "\n",
    "with open('Business Description.dat', 'rb') as d:\n",
    "    # The protocol version used is detected automatically, so we do not\n",
    "    # have to specify it.\n",
    "    data_businessD = pickle.load(d)\n",
    "    \n",
    "data_index.head()\n"
   ]
  },
  {
   "cell_type": "code",
   "execution_count": 40,
   "metadata": {
    "scrolled": true
   },
   "outputs": [
    {
     "data": {
      "text/plain": [
       "'ITEM 1. BUSINESS Overview We develop, manufacture and sell proprietary biological testing technologies and products with applications throughout the life sciences industries, including diagnostics, pharmaceutical and research. These industries depend on a broad range of tests, called assays, to perform diagnostic testing and conduct life science research. We have established a position in several segments of the life sciences industries by developing and delivering products that satisfy a variety of customer needs in specific market segments, including multiplexing, accuracy, precision, sensitivity, specificity, reduction of labor and ability to test for proteins and nucleic acids. These needs are addressed by our proprietary technologies. Multiplexing, the foundation of our Company, allows the end user in a laboratory to generate multiple laboratory results from a single sample with a single assay. This is important because our end user customers, which include laboratory professional'"
      ]
     },
     "execution_count": 40,
     "metadata": {},
     "output_type": "execute_result"
    }
   ],
   "source": [
    "data_businessD['10339050001033905-18-000014.txt'][0:1000]"
   ]
  },
  {
   "cell_type": "code",
   "execution_count": 48,
   "metadata": {},
   "outputs": [],
   "source": [
    "keys = data_index.txt_name\n"
   ]
  },
  {
   "cell_type": "markdown",
   "metadata": {},
   "source": [
    "## Tokenization"
   ]
  },
  {
   "cell_type": "code",
   "execution_count": 49,
   "metadata": {},
   "outputs": [
    {
     "name": "stderr",
     "output_type": "stream",
     "text": [
      "[nltk_data] Error loading punkt: <urlopen error [Errno 61] Connection\n",
      "[nltk_data]     refused>\n"
     ]
    },
    {
     "data": {
      "text/plain": [
       "False"
      ]
     },
     "execution_count": 49,
     "metadata": {},
     "output_type": "execute_result"
    }
   ],
   "source": [
    "import nltk\n",
    "nltk.download('punkt')"
   ]
  },
  {
   "cell_type": "markdown",
   "metadata": {},
   "source": [
    "# Lemmatization"
   ]
  },
  {
   "cell_type": "code",
   "execution_count": 52,
   "metadata": {},
   "outputs": [],
   "source": [
    "from nltk.stem import WordNetLemmatizer\n",
    "lemmatizer =  WordNetLemmatizer()"
   ]
  },
  {
   "cell_type": "code",
   "execution_count": 53,
   "metadata": {},
   "outputs": [
    {
     "name": "stderr",
     "output_type": "stream",
     "text": [
      "[nltk_data] Error loading wordnet: <urlopen error [Errno 61]\n",
      "[nltk_data]     Connection refused>\n"
     ]
    },
    {
     "data": {
      "text/plain": [
       "False"
      ]
     },
     "execution_count": 53,
     "metadata": {},
     "output_type": "execute_result"
    }
   ],
   "source": [
    "nltk.download('wordnet')"
   ]
  }
 ],
 "metadata": {
  "kernelspec": {
   "display_name": "Python 3",
   "language": "python",
   "name": "python3"
  },
  "language_info": {
   "codemirror_mode": {
    "name": "ipython",
    "version": 3
   },
   "file_extension": ".py",
   "mimetype": "text/x-python",
   "name": "python",
   "nbconvert_exporter": "python",
   "pygments_lexer": "ipython3",
   "version": "3.8.5"
  }
 },
 "nbformat": 4,
 "nbformat_minor": 4
}
